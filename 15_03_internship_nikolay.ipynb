{
 "cells": [
  {
   "cell_type": "code",
   "execution_count": 1,
   "metadata": {
    "id": "jxZus1OpQtIG"
   },
   "outputs": [],
   "source": [
    "import pandas as pd\n",
    "import numpy as np\n",
    "\n",
    "import io\n",
    "from google.colab import files"
   ]
  },
  {
   "cell_type": "code",
   "execution_count": 2,
   "metadata": {
    "colab": {
     "base_uri": "https://localhost:8080/",
     "height": 74,
     "resources": {
      "http://localhost:8080/nbextensions/google.colab/files.js": {
       "data": "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",
       "headers": [
        [
         "content-type",
         "application/javascript"
        ]
       ],
       "ok": true,
       "status": 200,
       "status_text": "OK"
      }
     }
    },
    "id": "6qRT-i7_RUYO",
    "outputId": "e4cfa0e6-deb6-4346-e0bf-fd073307c9da"
   },
   "outputs": [
    {
     "data": {
      "text/html": [
       "\n",
       "     <input type=\"file\" id=\"files-4c9a86e7-365a-4367-8acf-d21e47711b34\" name=\"files[]\" multiple disabled\n",
       "        style=\"border:none\" />\n",
       "     <output id=\"result-4c9a86e7-365a-4367-8acf-d21e47711b34\">\n",
       "      Upload widget is only available when the cell has been executed in the\n",
       "      current browser session. Please rerun this cell to enable.\n",
       "      </output>\n",
       "      <script src=\"/nbextensions/google.colab/files.js\"></script> "
      ],
      "text/plain": [
       "<IPython.core.display.HTML object>"
      ]
     },
     "metadata": {},
     "output_type": "display_data"
    },
    {
     "name": "stdout",
     "output_type": "stream",
     "text": [
      "Saving result_vacancy_hh to result_vacancy_hh\n"
     ]
    }
   ],
   "source": [
    "uploaded = files.upload()"
   ]
  },
  {
   "cell_type": "code",
   "execution_count": 3,
   "metadata": {
    "id": "uQwOPG3qRWD4"
   },
   "outputs": [],
   "source": [
    "df = pd.read_csv(io.StringIO(uploaded['result_vacancy_hh'].decode('utf-8')))"
   ]
  },
  {
   "cell_type": "code",
   "execution_count": 4,
   "metadata": {
    "colab": {
     "base_uri": "https://localhost:8080/"
    },
    "id": "BviAW42H0U4A",
    "outputId": "2206af12-e97a-4dd0-db13-eaa2440a16d9"
   },
   "outputs": [
    {
     "data": {
      "text/plain": [
       "(13890, 9)"
      ]
     },
     "execution_count": 4,
     "metadata": {},
     "output_type": "execute_result"
    }
   ],
   "source": [
    "df.shape"
   ]
  },
  {
   "cell_type": "code",
   "execution_count": null,
   "metadata": {
    "id": "oH6kenQvRyOe"
   },
   "outputs": [],
   "source": [
    "df.head()"
   ]
  },
  {
   "cell_type": "code",
   "execution_count": null,
   "metadata": {
    "id": "_4swswNZAdUg"
   },
   "outputs": [],
   "source": [
    "df1 = df.groupby('title').count()"
   ]
  },
  {
   "cell_type": "code",
   "execution_count": null,
   "metadata": {
    "id": "x_Em0zCcAdXG"
   },
   "outputs": [],
   "source": [
    "df1.sort_values(['company'], ascending = False).reset_index().head(10)"
   ]
  },
  {
   "cell_type": "code",
   "execution_count": null,
   "metadata": {
    "id": "dHADrMjhFnIm"
   },
   "outputs": [],
   "source": []
  },
  {
   "cell_type": "code",
   "execution_count": 5,
   "metadata": {
    "colab": {
     "base_uri": "https://localhost:8080/"
    },
    "id": "onJZJfYMRyT5",
    "outputId": "d0b859f7-ee4d-4a1b-d2d9-2a34872f363f"
   },
   "outputs": [
    {
     "name": "stdout",
     "output_type": "stream",
     "text": [
      "[nltk_data] Downloading package punkt to /root/nltk_data...\n",
      "[nltk_data]   Unzipping tokenizers/punkt.zip.\n"
     ]
    },
    {
     "data": {
      "text/plain": [
       "True"
      ]
     },
     "execution_count": 5,
     "metadata": {},
     "output_type": "execute_result"
    }
   ],
   "source": [
    "# Importing necessary library\n",
    "import nltk\n",
    "import os\n",
    "import nltk.corpus\n",
    "\n",
    "from nltk.tokenize import word_tokenize\n",
    "from nltk.probability import FreqDist\n",
    "nltk.download('punkt')"
   ]
  },
  {
   "cell_type": "code",
   "execution_count": 6,
   "metadata": {
    "id": "_TTYqAdzpWLJ"
   },
   "outputs": [],
   "source": [
    "job_keywords1 = set(['data analyst', 'data scientist', 'аналитик данных', 'аналитик'])\n",
    "job_keywords2 = set(['data analyst', 'data scientist', 'data science', 'machine learning', 'deep learning', 'ML', 'DS', 'analyst',\n",
    "                     'аналитик данных', 'аналитик'])\n",
    "job_keywords3 = set(['analyst', 'scientist', 'science', 'machine', 'deep', 'ml', 'ds'])\n",
    "job_keywords4 = set(['scientist', 'science', 'machine', 'deep', 'ml', 'ds'])"
   ]
  },
  {
   "cell_type": "code",
   "execution_count": 7,
   "metadata": {
    "id": "xczsi9McpWNx"
   },
   "outputs": [],
   "source": [
    "tool_keywords1 = set(['python', 'pytorch', 'sql', 'powerpoint', 'spark', 'java', 'nosql', 'docker', 'salesforce', 'scala', 'r',\n",
    "                     'c', 'c++', 'net', 'tableau', 'pandas', 'scikitlearn', 'sklearn', 'matlab', 'scala', 'keras', 'tensorflow',\n",
    "                     'scipy', 'numpy', 'matplotlib', 'vba', 'spss', 'linux', 'azure', 'cloud', 'kafka', 'javascript', 'qlik', 'jupyter', 'perl',\n",
    "                     'bigquery', 'unix', 'react', 'django','seaborn', 'github', 'git', 'airflow', 'looker', 'plotly', 'xgboost', 'rstudio', 'shiny',\n",
    "                     'hadoop', 'nltk','flask', 'rust', 'dask', 'ruby', 'julia', 'tensor', 'nlp', 'cv'])\n",
    "\n",
    "tool_keywords2 = ['python', 'pytorch', 'sql', 'mxnet', 'mlflow', 'einstein', 'theano', 'pyspark', 'solr', 'mahout', \n",
    " 'cassandra', 'aws', 'powerpoint', 'spark', 'pig', 'sas', 'java', 'nosql', 'docker', 'salesforce', 'scala', 'r',\n",
    " 'c', 'c++', 'net', 'tableau', 'pandas', 'scikitlearn', 'sklearn', 'matlab', 'scala', 'keras', 'tensorflow', 'clojure',\n",
    " 'caffe', 'scipy', 'numpy', 'matplotlib', 'vba', 'spss', 'linux', 'azure', 'cloud', 'gcp', 'mongodb', 'mysql', 'oracle', \n",
    " 'redshift', 'snowflake', 'kafka', 'javascript', 'qlik', 'jupyter', 'perl', 'bigquery', 'unix', 'react',\n",
    " 'scikit', 'powerbi', 's3', 'ec2', 'lambda', 'ssrs', 'kubernetes', 'hana', 'spacy', 'tf', 'django', 'sagemaker',\n",
    " 'seaborn', 'mllib', 'github', 'git', 'elasticsearch', 'splunk', 'airflow', 'looker', 'rapidminer', 'birt', 'pentaho', \n",
    " 'jquery', 'nodejs', 'd3', 'plotly', 'bokeh', 'xgboost', 'rstudio', 'shiny', 'dash', 'h20', 'h2o', 'hadoop', 'mapreduce', \n",
    " 'hive', 'cognos', 'angular', 'nltk', 'flask', 'node', 'firebase', 'bigtable', 'rust', 'php', 'cntk', 'lightgbm', \n",
    " 'kubeflow', 'rpython', 'unixlinux', 'postgressql', 'postgresql', 'postgres', 'hbase', 'dask', 'ruby', 'julia', 'tensor',\n",
    "# added r packages doesn't seem to impact the result\n",
    " 'dplyr','ggplot2','esquisse','bioconductor','shiny','lubridate','knitr','mlr','quanteda','dt','rcrawler','caret','rmarkdown',\n",
    " 'leaflet','janitor','ggvis','plotly','rcharts','rbokeh','broom','stringr','magrittr','slidify','rvest',\n",
    " 'rmysql','rsqlite','prophet','glmnet','text2vec','snowballc','quantmod','rstan','swirl','datasciencer']"
   ]
  },
  {
   "cell_type": "code",
   "execution_count": 7,
   "metadata": {
    "id": "GVO5v-jdwMlH"
   },
   "outputs": [],
   "source": []
  },
  {
   "cell_type": "code",
   "execution_count": 7,
   "metadata": {
    "id": "O6yFdSJEw-Q6"
   },
   "outputs": [],
   "source": []
  },
  {
   "cell_type": "code",
   "execution_count": 7,
   "metadata": {
    "id": "Udrn5Nzlw-Tt"
   },
   "outputs": [],
   "source": []
  },
  {
   "cell_type": "code",
   "execution_count": 8,
   "metadata": {
    "id": "0uCKzVfdpWQa"
   },
   "outputs": [],
   "source": [
    "from nltk import pos_tag\n",
    "from nltk.stem import PorterStemmer\n",
    "\n",
    "ps = PorterStemmer()"
   ]
  },
  {
   "cell_type": "code",
   "execution_count": 9,
   "metadata": {
    "id": "P6Kb4mNPpbzP"
   },
   "outputs": [],
   "source": [
    "# process the job description.\n",
    "def prepare_job_desc(desc):\n",
    "    # tokenize description.\n",
    "    tokens = word_tokenize(desc)\n",
    "        \n",
    "    # Parts of speech (POS) tag tokens.\n",
    "    token_tag = pos_tag(tokens)\n",
    "    \n",
    "    # Only include some of the POS tags.\n",
    "    include_tags = ['VBN', 'VBD', 'JJ', 'JJS', 'JJR', 'CD', 'NN', 'NNS', 'NNP', 'NNPS']\n",
    "    filtered_tokens = [tok for tok, tag in token_tag if tag in include_tags]\n",
    "    \n",
    "    # stem words.\n",
    "    stemmed_tokens = [ps.stem(tok).lower() for tok in filtered_tokens]\n",
    "    return set(stemmed_tokens)"
   ]
  },
  {
   "cell_type": "code",
   "execution_count": 10,
   "metadata": {
    "colab": {
     "base_uri": "https://localhost:8080/"
    },
    "id": "w9XwWiTFpb18",
    "outputId": "bf039da9-39d6-48f5-e382-fe78184c9ba9"
   },
   "outputs": [
    {
     "name": "stdout",
     "output_type": "stream",
     "text": [
      "[nltk_data] Downloading package averaged_perceptron_tagger to\n",
      "[nltk_data]     /root/nltk_data...\n",
      "[nltk_data]   Unzipping taggers/averaged_perceptron_tagger.zip.\n"
     ]
    },
    {
     "data": {
      "text/plain": [
       "True"
      ]
     },
     "execution_count": 10,
     "metadata": {},
     "output_type": "execute_result"
    }
   ],
   "source": [
    "from collections import Counter\n",
    "import string\n",
    "\n",
    "import math\n",
    "\n",
    "from plotly import __version__\n",
    "from plotly.offline import download_plotlyjs, init_notebook_mode, plot, iplot\n",
    "import plotly.graph_objs as go\n",
    "\n",
    "from nltk import pos_tag\n",
    "\n",
    "nltk.download('averaged_perceptron_tagger')"
   ]
  },
  {
   "cell_type": "code",
   "execution_count": null,
   "metadata": {
    "id": "ALXveAKww-Wi"
   },
   "outputs": [],
   "source": []
  },
  {
   "cell_type": "code",
   "execution_count": null,
   "metadata": {
    "id": "mQoijXz5wqnO"
   },
   "outputs": [],
   "source": [
    "# опредленеи топ вакансия в зависисомти от компании"
   ]
  },
  {
   "cell_type": "code",
   "execution_count": null,
   "metadata": {
    "id": "6Zd8Z1xOwqp4"
   },
   "outputs": [],
   "source": [
    "df_company = df.groupby('company')['title'].count().reset_index()"
   ]
  },
  {
   "cell_type": "code",
   "execution_count": null,
   "metadata": {
    "id": "90aOdjr6wqsf"
   },
   "outputs": [],
   "source": [
    "df_company.sort_values(['title'], ascending = False).reset_index().head(20)"
   ]
  },
  {
   "cell_type": "code",
   "execution_count": null,
   "metadata": {
    "id": "Zoog_3GUw0_0"
   },
   "outputs": [],
   "source": [
    "# предварительный анализ показал, что некоторые компании представлены под несколькими именами\n",
    "# поэтому объединим по названию"
   ]
  },
  {
   "cell_type": "code",
   "execution_count": null,
   "metadata": {
    "id": "rqyi3RtcwSTv"
   },
   "outputs": [],
   "source": [
    "df['company_word_set'] = df['company'].map(prepare_job_desc)"
   ]
  },
  {
   "cell_type": "code",
   "execution_count": null,
   "metadata": {
    "id": "vBJdBq8iwSWh"
   },
   "outputs": [],
   "source": [
    "company_list = []\n",
    "i=0\n",
    "for i in range(len(df)):\n",
    "  company_words = df.loc[i, 'company_word_set']\n",
    "  #company_words  = (ex.intersection(tool_keywords1))\n",
    "  company_list += list(company_words)\n",
    "\n",
    "df_company_words = pd.DataFrame(data={'cnt': company_list})"
   ]
  },
  {
   "cell_type": "code",
   "execution_count": null,
   "metadata": {
    "id": "S3vaL9VuwSZa"
   },
   "outputs": [],
   "source": [
    "df_company_count = df_company_words.value_counts().reset_index()\n",
    "df_company_count.rename(columns={ df_company_count.columns[1]: 'number',\n",
    "                                  df_company_count.columns[0]: 'company'}, inplace = True)\n",
    "df_company_count.head(50)"
   ]
  },
  {
   "cell_type": "code",
   "execution_count": 11,
   "metadata": {
    "id": "-wJMaBpzwScO"
   },
   "outputs": [],
   "source": [
    "# create two set of top company - top5 and top10\n",
    "job_company_top5 = set(['сбер', 'ozon', 'яндекс', 'vk', 'мтс'])\n",
    "job_company_top10 = set(['сбер', 'ozon', 'яндекс', 'vk', 'мтс', 'technolog', 'иннотех', 'касперского', 'тинькофф', 'втб'])"
   ]
  },
  {
   "cell_type": "code",
   "execution_count": null,
   "metadata": {
    "id": "LbH9rjh8aHjY"
   },
   "outputs": [],
   "source": []
  },
  {
   "cell_type": "code",
   "execution_count": null,
   "metadata": {
    "id": "FM4GxVoZxI1q"
   },
   "outputs": [],
   "source": [
    "# create world set for description, title and company"
   ]
  },
  {
   "cell_type": "code",
   "execution_count": 12,
   "metadata": {
    "id": "nKorabkJpb4i"
   },
   "outputs": [],
   "source": [
    "df['description_word_set'] = df['description'].map(prepare_job_desc)"
   ]
  },
  {
   "cell_type": "code",
   "execution_count": 13,
   "metadata": {
    "id": "rLqIUKP7pb7L"
   },
   "outputs": [],
   "source": [
    "df['title_word_set'] = df['title'].map(prepare_job_desc)\n",
    "df['company_word_set'] = df['company'].map(prepare_job_desc)"
   ]
  },
  {
   "cell_type": "code",
   "execution_count": 14,
   "metadata": {
    "id": "iAKxTX1rv-3i"
   },
   "outputs": [],
   "source": [
    "# add columns 0/1 with top5 and top10 company\n",
    "\n",
    "df['company_top5'] = 0\n",
    "df['company_top10'] = 0\n",
    "i=0\n",
    "for i in range(len(df)):\n",
    "  ex = df.loc[i, 'company_word_set']\n",
    "  company_words_top5  = (ex.intersection(job_company_top5))\n",
    "  company_words_top10  = (ex.intersection(job_company_top10))\n",
    "  if len(company_words_top5)>0:\n",
    "    df.loc[i, 'company_top5'] = 1\n",
    "  if len(company_words_top10)>0:\n",
    "    df.loc[i, 'company_top10'] = 1\n"
   ]
  },
  {
   "cell_type": "code",
   "execution_count": null,
   "metadata": {
    "id": "yJz9BKdpv-6T"
   },
   "outputs": [],
   "source": [
    "df.head()"
   ]
  },
  {
   "cell_type": "code",
   "execution_count": 15,
   "metadata": {
    "id": "8Dpgp8COv-9C"
   },
   "outputs": [],
   "source": [
    "df['title_ds'] = 0\n",
    "i=0\n",
    "for i in range(len(df)):\n",
    "  ex = df.loc[i, 'title_word_set']\n",
    "  title_words  = (ex.intersection(job_keywords4))\n",
    "  \n",
    "  if len(title_words)>0:\n",
    "    df.loc[i, 'title_ds'] = 1\n"
   ]
  },
  {
   "cell_type": "code",
   "execution_count": 16,
   "metadata": {
    "colab": {
     "base_uri": "https://localhost:8080/"
    },
    "id": "YvqSjdC7zs4t",
    "outputId": "9680fd8e-876f-4c46-ee77-b109fa02e119"
   },
   "outputs": [
    {
     "data": {
      "text/plain": [
       "(672, 16)"
      ]
     },
     "execution_count": 16,
     "metadata": {},
     "output_type": "execute_result"
    }
   ],
   "source": [
    "df_work = df.loc[df.title_ds == 1].reset_index()\n",
    "df_work.shape"
   ]
  },
  {
   "cell_type": "code",
   "execution_count": null,
   "metadata": {
    "id": "_UAhqdPgOLlF"
   },
   "outputs": [],
   "source": []
  },
  {
   "cell_type": "code",
   "execution_count": null,
   "metadata": {
    "id": "bE2jeg8NaHmC"
   },
   "outputs": [],
   "source": [
    "# create colunm with key words from description - take only English words and drop punctuation"
   ]
  },
  {
   "cell_type": "code",
   "execution_count": null,
   "metadata": {
    "colab": {
     "base_uri": "https://localhost:8080/"
    },
    "id": "g4Fsdlp6aHo2",
    "outputId": "2aecfadd-852a-4694-c617-e14c320b2248"
   },
   "outputs": [
    {
     "name": "stdout",
     "output_type": "stream",
     "text": [
      "[nltk_data] Downloading package words to /root/nltk_data...\n",
      "[nltk_data]   Unzipping corpora/words.zip.\n"
     ]
    }
   ],
   "source": [
    "import nltk \n",
    "nltk.download('words')\n",
    "words = set(nltk.corpus.words.words())"
   ]
  },
  {
   "cell_type": "code",
   "execution_count": null,
   "metadata": {
    "id": "RLnqFlOrxIwC"
   },
   "outputs": [],
   "source": [
    "def key_words_description(description):\n",
    "  sent = \" \".join(w for w in nltk.wordpunct_tokenize(description) if w.lower() in words or not w.isalpha())\n",
    "  sent_no_num = ''.join([i for i in sent if not i.isdigit()])\n",
    "  no_punct_sent = sent_no_num.translate(str.maketrans('', '', string.punctuation))\n",
    "  tokens_no_punct = word_tokenize(no_punct_sent)\n",
    "  stemmed_tokens = [ps.stem(tok).lower() for tok in tokens_no_punct]\n",
    "  return set(stemmed_tokens)\n"
   ]
  },
  {
   "cell_type": "code",
   "execution_count": null,
   "metadata": {
    "id": "qY52qNnace6Z"
   },
   "outputs": [],
   "source": [
    "df['key_words_description'] = df['description'].map(key_words_description)"
   ]
  },
  {
   "cell_type": "code",
   "execution_count": null,
   "metadata": {
    "id": "-UmqNsivMA3w"
   },
   "outputs": [],
   "source": [
    "df_work = df.loc[df.title_ds == 1].reset_index()\n"
   ]
  },
  {
   "cell_type": "code",
   "execution_count": null,
   "metadata": {
    "id": "zZAcblDocuYS"
   },
   "outputs": [],
   "source": [
    "skill_list = []\n",
    "i=0\n",
    "for i in range(len(df_work)):\n",
    "  slill_words = df_work.loc[i, 'key_words_description']\n",
    "  skill_list += list(slill_words)\n",
    "\n",
    "df_skill_words = pd.DataFrame(data={'cnt': skill_list})"
   ]
  },
  {
   "cell_type": "code",
   "execution_count": null,
   "metadata": {
    "id": "vnCuDV5ycubC"
   },
   "outputs": [],
   "source": [
    "df_skill_count = df_skill_words.value_counts().reset_index()\n",
    "df_skill_count.rename(columns={df_skill_count.columns[1]: 'number',\n",
    "                               df_skill_count.columns[0]: 'skill'}, inplace = True)\n",
    "df_skill_count.head(50)"
   ]
  },
  {
   "cell_type": "code",
   "execution_count": null,
   "metadata": {
    "colab": {
     "base_uri": "https://localhost:8080/"
    },
    "id": "63REy4vwQ3od",
    "outputId": "1887b89a-a63e-426b-bae1-2aa1ceaaba2a"
   },
   "outputs": [
    {
     "data": {
      "text/plain": [
       "(662, 2)"
      ]
     },
     "execution_count": 28,
     "metadata": {},
     "output_type": "execute_result"
    }
   ],
   "source": [
    "df_skill_count.shape"
   ]
  },
  {
   "cell_type": "code",
   "execution_count": 17,
   "metadata": {
    "id": "iPEM2FjwcudW"
   },
   "outputs": [],
   "source": [
    "# create the set of top skill/tool\n",
    "tool_keywords0 = set(['python', 'r', 'vision', 'git', 'docker', 'spark', 'excel', 'scala', 'oracl', 'flask', 'tableau', 'stack'])\n",
    "\n",
    "tool_keywords1 = set(['python', 'pytorch', 'sql', 'powerpoint', 'spark', 'java', 'nosql', 'docker', 'salesforce', 'scala', 'r',\n",
    "                     'c', 'c++', 'net', 'tableau', 'pandas', 'scikitlearn', 'sklearn', 'matlab', 'scala', 'keras', 'tensorflow',\n",
    "                     'scipy', 'numpy', 'matplotlib', 'vba', 'spss', 'linux', 'azure', 'cloud', 'kafka', 'javascript', 'qlik', 'jupyter', 'perl',\n",
    "                     'bigquery', 'unix', 'react', 'django','seaborn', 'github', 'git', 'airflow', 'looker', 'plotly', 'xgboost', 'rstudio', 'shiny',\n",
    "                     'hadoop', 'nltk','flask', 'rust', 'dask', 'ruby', 'julia', 'tensor', 'nlp', 'cv'])\n",
    "\n",
    "tool_keywords2 = ['python', 'pytorch', 'sql', 'mxnet', 'mlflow', 'einstein', 'theano', 'pyspark', 'solr', 'mahout', \n",
    " 'cassandra', 'aws', 'powerpoint', 'spark', 'pig', 'sas', 'java', 'nosql', 'docker', 'salesforce', 'scala', 'r',\n",
    " 'c', 'c++', 'net', 'tableau', 'pandas', 'scikitlearn', 'sklearn', 'matlab', 'scala', 'keras', 'tensorflow', 'clojure',\n",
    " 'caffe', 'scipy', 'numpy', 'matplotlib', 'vba', 'spss', 'linux', 'azure', 'cloud', 'gcp', 'mongodb', 'mysql', 'oracle', \n",
    " 'redshift', 'snowflake', 'kafka', 'javascript', 'qlik', 'jupyter', 'perl', 'bigquery', 'unix', 'react',\n",
    " 'scikit', 'powerbi', 's3', 'ec2', 'lambda', 'ssrs', 'kubernetes', 'hana', 'spacy', 'tf', 'django', 'sagemaker',\n",
    " 'seaborn', 'mllib', 'github', 'git', 'elasticsearch', 'splunk', 'airflow', 'looker', 'rapidminer', 'birt', 'pentaho', \n",
    " 'jquery', 'nodejs', 'd3', 'plotly', 'bokeh', 'xgboost', 'rstudio', 'shiny', 'dash', 'h20', 'h2o', 'hadoop', 'mapreduce', \n",
    " 'hive', 'cognos', 'angular', 'nltk', 'flask', 'node', 'firebase', 'bigtable', 'rust', 'php', 'cntk', 'lightgbm', \n",
    " 'kubeflow', 'rpython', 'unixlinux', 'postgressql', 'postgresql', 'postgres', 'hbase', 'dask', 'ruby', 'julia', 'tensor',\n",
    "# added r packages doesn't seem to impact the result\n",
    " 'dplyr','ggplot2','esquisse','bioconductor','shiny','lubridate','knitr','mlr','quanteda','dt','rcrawler','caret','rmarkdown',\n",
    " 'leaflet','janitor','ggvis','plotly','rcharts','rbokeh','broom','stringr','magrittr','slidify','rvest',\n",
    " 'rmysql','rsqlite','prophet','glmnet','text2vec','snowballc','quantmod','rstan','swirl','datasciencer']\n"
   ]
  },
  {
   "cell_type": "code",
   "execution_count": null,
   "metadata": {
    "id": "a5GkrRIwZzaj"
   },
   "outputs": [],
   "source": []
  },
  {
   "cell_type": "code",
   "execution_count": null,
   "metadata": {
    "id": "0nNc45dsZzdQ"
   },
   "outputs": [],
   "source": []
  },
  {
   "cell_type": "code",
   "execution_count": null,
   "metadata": {
    "id": "IjiXFH7UZzgD"
   },
   "outputs": [],
   "source": []
  },
  {
   "cell_type": "code",
   "execution_count": null,
   "metadata": {
    "id": "27CRAwOm79K3"
   },
   "outputs": [],
   "source": [
    "# составляем лист с частотой втсречаемых слов из набора умений/навыков"
   ]
  },
  {
   "cell_type": "code",
   "execution_count": null,
   "metadata": {
    "id": "EzMEC8o079NP"
   },
   "outputs": [],
   "source": [
    "# первое для всех вакансий из дс "
   ]
  },
  {
   "cell_type": "code",
   "execution_count": null,
   "metadata": {
    "id": "RvHGPFV0H1pr"
   },
   "outputs": [],
   "source": [
    "# первый набор скилов"
   ]
  },
  {
   "cell_type": "code",
   "execution_count": 44,
   "metadata": {
    "id": "tHtP-RXzzs9e"
   },
   "outputs": [],
   "source": [
    "tool_list = []\n",
    "i=0\n",
    "for i in range(len(df_work)):\n",
    "  ex = df_work.loc[i, 'description_word_set']\n",
    "  tool_words  = (ex.intersection(tool_keywords0))\n",
    "  tool_list += list(tool_words)\n",
    "\n",
    "df_work_tool = pd.DataFrame(data={'cnt': tool_list})"
   ]
  },
  {
   "cell_type": "code",
   "execution_count": 45,
   "metadata": {
    "id": "8zvugfhE8-U-"
   },
   "outputs": [],
   "source": [
    "num = (df_work_tool['cnt'].value_counts())/len(df_work)\n",
    "df_fig = pd.DataFrame(data=num).reset_index()\n",
    "df_fig = df_fig.rename(columns={\"index\": \"tools\", \"cnt\": \"value\"})"
   ]
  },
  {
   "cell_type": "code",
   "execution_count": 47,
   "metadata": {
    "colab": {
     "base_uri": "https://localhost:8080/",
     "height": 486
    },
    "id": "dG8aI3SE9CPA",
    "outputId": "a08593cd-b8e8-4e12-9774-7e0d91afeae8"
   },
   "outputs": [
    {
     "data": {
      "image/png": "[encoded data removed]",
      "text/plain": [
       "<Figure size 720x504 with 1 Axes>"
      ]
     },
     "metadata": {
      "needs_background": "light"
     },
     "output_type": "display_data"
    }
   ],
   "source": [
    "import matplotlib.pyplot as plt\n",
    "\n",
    "plt.figure(figsize = (10,7))\n",
    "plt.xticks(rotation=90)\n",
    "plt.bar(df_fig['tools'], df_fig['value'])\n",
    "\n",
    "plt.title('Процент вакансий с требованиями к кандидатам по навыкам')\n",
    "plt.xlabel('Необходимые инстументы/навыки')\n",
    "plt.ylabel('Процент от всех вакансий')\n",
    "\n",
    "plt.savefig('sav_all_tool_0.png')"
   ]
  },
  {
   "cell_type": "code",
   "execution_count": 21,
   "metadata": {
    "id": "ZdN6v1aLHzJt"
   },
   "outputs": [],
   "source": [
    "# второй набор скилов"
   ]
  },
  {
   "cell_type": "code",
   "execution_count": 48,
   "metadata": {
    "id": "PvOjj9x0HzMj"
   },
   "outputs": [],
   "source": [
    "tool_list = []\n",
    "i=0\n",
    "for i in range(len(df_work)):\n",
    "  ex = df_work.loc[i, 'description_word_set']\n",
    "  tool_words  = (ex.intersection(tool_keywords1))\n",
    "  tool_list += list(tool_words)\n",
    "\n",
    "df_work_tool = pd.DataFrame(data={'cnt': tool_list})"
   ]
  },
  {
   "cell_type": "code",
   "execution_count": 49,
   "metadata": {
    "id": "2XnnLnEITrfv"
   },
   "outputs": [],
   "source": [
    "num = (df_work_tool['cnt'].value_counts())/len(df_work)\n",
    "df_fig = pd.DataFrame(data=num).reset_index()\n",
    "df_fig = df_fig.rename(columns={\"index\": \"tools\", \"cnt\": \"value\"})"
   ]
  },
  {
   "cell_type": "code",
   "execution_count": 50,
   "metadata": {
    "colab": {
     "base_uri": "https://localhost:8080/",
     "height": 501
    },
    "id": "_fvM4FU8HzPp",
    "outputId": "443c52d5-6ef4-4546-e666-6b94c03bbc51"
   },
   "outputs": [
    {
     "data": {
      "image/png": "[encoded data removed]",
      "text/plain": [
       "<Figure size 720x504 with 1 Axes>"
      ]
     },
     "metadata": {
      "needs_background": "light"
     },
     "output_type": "display_data"
    }
   ],
   "source": [
    "plt.figure(figsize = (10,7))\n",
    "plt.xticks(rotation=90)\n",
    "plt.bar(df_fig['tools'], df_fig['value'])\n",
    "\n",
    "plt.title('Процент вакансий с требованиями к кандидатам по навыкам')\n",
    "plt.xlabel('Необходимые инстументы/навыки')\n",
    "plt.ylabel('Процент от всех вакансий')\n",
    "\n",
    "plt.savefig('sav_all_tool_1.png')"
   ]
  },
  {
   "cell_type": "code",
   "execution_count": 24,
   "metadata": {
    "id": "KkBlFoJZHzSU"
   },
   "outputs": [],
   "source": [
    "# третий набор скилов"
   ]
  },
  {
   "cell_type": "code",
   "execution_count": 51,
   "metadata": {
    "id": "kQdkdhqaHzVE"
   },
   "outputs": [],
   "source": [
    "tool_list = []\n",
    "i=0\n",
    "for i in range(len(df_work)):\n",
    "  ex = df_work.loc[i, 'description_word_set']\n",
    "  tool_words  = (ex.intersection(tool_keywords2))\n",
    "  tool_list += list(tool_words)\n",
    "\n",
    "df_work_tool = pd.DataFrame(data={'cnt': tool_list})"
   ]
  },
  {
   "cell_type": "code",
   "execution_count": 52,
   "metadata": {
    "id": "CVAd2EDnT8B1"
   },
   "outputs": [],
   "source": [
    "num = (df_work_tool['cnt'].value_counts())/len(df_work)\n",
    "df_fig = pd.DataFrame(data=num).reset_index()\n",
    "df_fig = df_fig.rename(columns={\"index\": \"tools\", \"cnt\": \"value\"})"
   ]
  },
  {
   "cell_type": "code",
   "execution_count": 53,
   "metadata": {
    "colab": {
     "base_uri": "https://localhost:8080/",
     "height": 514
    },
    "id": "lVM4GAa3HzXy",
    "outputId": "ce9a101f-6058-4e04-ffcd-e449a794f5de"
   },
   "outputs": [
    {
     "data": {
      "image/png": "[encoded data removed]",
      "text/plain": [
       "<Figure size 720x504 with 1 Axes>"
      ]
     },
     "metadata": {
      "needs_background": "light"
     },
     "output_type": "display_data"
    }
   ],
   "source": [
    "plt.figure(figsize = (10,7))\n",
    "plt.xticks(rotation=90)\n",
    "plt.bar(df_fig['tools'], df_fig['value'])\n",
    "\n",
    "plt.title('Процент вакансий с требованиями к кандидатам по навыкам')\n",
    "plt.xlabel('Необходимые инстументы/навыки')\n",
    "plt.ylabel('Процент от всех вакансий')\n",
    "\n",
    "plt.savefig('sav_all_tool_2.png')"
   ]
  },
  {
   "cell_type": "code",
   "execution_count": null,
   "metadata": {
    "id": "GepNquwXHzap"
   },
   "outputs": [],
   "source": [
    "# анализ в зависимости от уровня компании: три набора, все компании, топ 5 и топ 10."
   ]
  },
  {
   "cell_type": "code",
   "execution_count": null,
   "metadata": {
    "id": "JNX82p8d52Ri"
   },
   "outputs": [],
   "source": [
    "# определеие кол-во вакансий"
   ]
  },
  {
   "cell_type": "code",
   "execution_count": 54,
   "metadata": {
    "id": "peeJiHuxHyJT"
   },
   "outputs": [],
   "source": [
    "df_work_top5 = df.loc[df.company_top5 == 1].reset_index()"
   ]
  },
  {
   "cell_type": "code",
   "execution_count": 55,
   "metadata": {
    "colab": {
     "base_uri": "https://localhost:8080/"
    },
    "id": "H0r6xWVnHyMH",
    "outputId": "e6c4d8d5-bea8-4cfc-f1d7-376d1669ec18"
   },
   "outputs": [
    {
     "data": {
      "text/plain": [
       "(2101, 16)"
      ]
     },
     "execution_count": 55,
     "metadata": {},
     "output_type": "execute_result"
    }
   ],
   "source": [
    "df_work_top5.shape"
   ]
  },
  {
   "cell_type": "code",
   "execution_count": 56,
   "metadata": {
    "id": "G5yfzQeJHyOp"
   },
   "outputs": [],
   "source": [
    "df_work = df.loc[df.title_ds == 1].reset_index()\n",
    "df_work_ds_top5 = df_work.loc[df_work.company_top5 == 1].reset_index()"
   ]
  },
  {
   "cell_type": "code",
   "execution_count": 57,
   "metadata": {
    "colab": {
     "base_uri": "https://localhost:8080/"
    },
    "id": "vlDaKat4HyRm",
    "outputId": "61b7b5f1-1dcb-480b-bbcf-695b8a17b869"
   },
   "outputs": [
    {
     "data": {
      "text/plain": [
       "(165, 17)"
      ]
     },
     "execution_count": 57,
     "metadata": {},
     "output_type": "execute_result"
    }
   ],
   "source": [
    "df_work_ds_top5.shape"
   ]
  },
  {
   "cell_type": "code",
   "execution_count": 58,
   "metadata": {
    "id": "aFKToImMHyUd"
   },
   "outputs": [],
   "source": [
    "df_work_top10 = df.loc[df.company_top10 == 1].reset_index()"
   ]
  },
  {
   "cell_type": "code",
   "execution_count": 59,
   "metadata": {
    "colab": {
     "base_uri": "https://localhost:8080/"
    },
    "id": "TNZbw16SW_vK",
    "outputId": "7474f9d8-61d9-4924-cbb5-3c63952d641e"
   },
   "outputs": [
    {
     "data": {
      "text/plain": [
       "(2804, 16)"
      ]
     },
     "execution_count": 59,
     "metadata": {},
     "output_type": "execute_result"
    }
   ],
   "source": [
    "df_work_top10.shape"
   ]
  },
  {
   "cell_type": "code",
   "execution_count": 60,
   "metadata": {
    "id": "ar8kUC-fW_x4"
   },
   "outputs": [],
   "source": [
    "df_work = df.loc[df.title_ds == 1].reset_index()\n",
    "df_work_ds_top10 = df_work.loc[df_work.company_top10 == 1].reset_index()"
   ]
  },
  {
   "cell_type": "code",
   "execution_count": 61,
   "metadata": {
    "colab": {
     "base_uri": "https://localhost:8080/"
    },
    "id": "0cWqT2NDW_0q",
    "outputId": "2d04e7e5-a90d-4072-bed6-0a8d16c2ae54"
   },
   "outputs": [
    {
     "data": {
      "text/plain": [
       "(211, 17)"
      ]
     },
     "execution_count": 61,
     "metadata": {},
     "output_type": "execute_result"
    }
   ],
   "source": [
    "df_work_ds_top10.shape"
   ]
  },
  {
   "cell_type": "code",
   "execution_count": null,
   "metadata": {
    "id": "LpJ--HOpZSV1"
   },
   "outputs": [],
   "source": []
  },
  {
   "cell_type": "code",
   "execution_count": null,
   "metadata": {
    "id": "ICkdQ_N_Yyq_"
   },
   "outputs": [],
   "source": [
    "# проводим анализ для топ 5 компания и остальных вакансий"
   ]
  },
  {
   "cell_type": "code",
   "execution_count": 65,
   "metadata": {
    "id": "PTuIRkY9Yytc"
   },
   "outputs": [],
   "source": [
    "df_work = df.loc[df.title_ds == 1].reset_index()\n",
    "df_work_ds_top5 = df_work.loc[df_work.company_top5 == 1].reset_index()\n",
    "df_work_ds_out5 = df_work.loc[df_work.company_top5 == 0].reset_index()"
   ]
  },
  {
   "cell_type": "code",
   "execution_count": 66,
   "metadata": {
    "id": "jzw9iN0CW_3B"
   },
   "outputs": [],
   "source": [
    "# top 5 companies"
   ]
  },
  {
   "cell_type": "code",
   "execution_count": 106,
   "metadata": {
    "id": "wbAwUsKaZSLG"
   },
   "outputs": [],
   "source": [
    "tool_list_top5 = []\n",
    "i=0\n",
    "for i in range(len(df_work_ds_top5)):\n",
    "  ex = df_work_ds_top5.loc[i, 'description_word_set']\n",
    "  tool_words  = (ex.intersection(tool_keywords2))\n",
    "  tool_list_top5 += list(tool_words)\n",
    "\n",
    "df_work_tool_top5 = pd.DataFrame(data={'cnt': tool_list_top5})"
   ]
  },
  {
   "cell_type": "code",
   "execution_count": null,
   "metadata": {
    "id": "QH9MWaH1W_-j"
   },
   "outputs": [],
   "source": [
    "num = (df_work_tool_top5['cnt'].value_counts())/len(df_work_ds_top5)\n",
    "df_fig = pd.DataFrame(data=num).reset_index()\n",
    "df_fig = df_fig.rename(columns={\"index\": \"tools\", \"cnt\": \"value\"})\n"
   ]
  },
  {
   "cell_type": "code",
   "execution_count": 77,
   "metadata": {
    "colab": {
     "base_uri": "https://localhost:8080/",
     "height": 501
    },
    "id": "XadxCkZ6HyYQ",
    "outputId": "165c2d59-72cb-4818-f2bf-f089ab194f27"
   },
   "outputs": [
    {
     "data": {
      "image/png": "[encoded data removed]",
      "text/plain": [
       "<Figure size 720x504 with 1 Axes>"
      ]
     },
     "metadata": {
      "needs_background": "light"
     },
     "output_type": "display_data"
    }
   ],
   "source": [
    "plt.figure(figsize = (10,7))\n",
    "plt.xticks(rotation=90)\n",
    "plt.bar(df_fig['tools'], df_fig['value'])\n",
    "\n",
    "plt.title('Процент вакансий с требованиями к кандидатам по навыкам. Топ 5 компаний')\n",
    "plt.xlabel('Необходимые инстументы/навыки')\n",
    "plt.ylabel('Процент от всех вакансий')\n",
    "\n",
    "plt.savefig('sav_all_tool_top5.png')"
   ]
  },
  {
   "cell_type": "code",
   "execution_count": null,
   "metadata": {
    "id": "1cIBp_QVZw15"
   },
   "outputs": [],
   "source": [
    "# NOT top 5 companies"
   ]
  },
  {
   "cell_type": "code",
   "execution_count": 108,
   "metadata": {
    "id": "Gqs2vm8uZw4x"
   },
   "outputs": [],
   "source": [
    "tool_list_out5 = []\n",
    "i=0\n",
    "for i in range(len(df_work_ds_out5)):\n",
    "  ex = df_work_ds_out5.loc[i, 'description_word_set']\n",
    "  tool_words  = (ex.intersection(tool_keywords2))\n",
    "  tool_list_out5 += list(tool_words)\n",
    "\n",
    "df_work_tool_out5 = pd.DataFrame(data={'cnt': tool_list_out5})"
   ]
  },
  {
   "cell_type": "code",
   "execution_count": 109,
   "metadata": {
    "id": "RCikhm6NZw7O"
   },
   "outputs": [],
   "source": [
    "num = (df_work_tool_out5['cnt'].value_counts())/len(df_work_ds_out5)\n",
    "df_fig = pd.DataFrame(data=num).reset_index()\n",
    "df_fig = df_fig.rename(columns={\"index\": \"tools\", \"cnt\": \"value\"})\n"
   ]
  },
  {
   "cell_type": "code",
   "execution_count": 100,
   "metadata": {
    "colab": {
     "base_uri": "https://localhost:8080/",
     "height": 514
    },
    "id": "t9vgf_8nZw9u",
    "outputId": "327d5fc4-39eb-45b9-f1ae-c373c316aa2d"
   },
   "outputs": [
    {
     "data": {
      "image/png": "[encoded data removed]",
      "text/plain": [
       "<Figure size 720x504 with 1 Axes>"
      ]
     },
     "metadata": {
      "needs_background": "light"
     },
     "output_type": "display_data"
    }
   ],
   "source": [
    "plt.figure(figsize = (10,7))\n",
    "plt.xticks(rotation=90)\n",
    "plt.bar(df_fig['tools'], df_fig['value'])\n",
    "\n",
    "plt.title('Процент вакансий с требованиями к кандидатам по навыкам. Все, кроме топ 5 компаний')\n",
    "plt.xlabel('Необходимые инстументы/навыки')\n",
    "plt.ylabel('Процент от всех вакансий')\n",
    "\n",
    "plt.savefig('sav_all_tool_out5.png')"
   ]
  },
  {
   "cell_type": "code",
   "execution_count": null,
   "metadata": {
    "id": "flQ_2CzxZw_8"
   },
   "outputs": [],
   "source": []
  },
  {
   "cell_type": "code",
   "execution_count": null,
   "metadata": {
    "id": "cH1cUvfOZxCf"
   },
   "outputs": [],
   "source": []
  },
  {
   "cell_type": "code",
   "execution_count": 87,
   "metadata": {
    "colab": {
     "base_uri": "https://localhost:8080/"
    },
    "id": "E1htWWBXZxFL",
    "outputId": "288264ce-8c72-41f5-f3a9-cc95b63b7268"
   },
   "outputs": [
    {
     "name": "stdout",
     "output_type": "stream",
     "text": [
      "chisq-statistic=28.9434, p-value=0.0000, df=1 expected_frep=[[13837.70751129  2153.29248871]\n",
      " [  724.29248871   112.70751129]]\n"
     ]
    }
   ],
   "source": [
    "from  scipy.stats import chi2_contingency\n",
    "import numpy as np\n",
    "kf_data = np.array([[13890,2101], [672, 165]])\n",
    "kf = chi2_contingency(kf_data)\n",
    "print('chisq-statistic=%.4f, p-value=%.4f, df=%i expected_frep=%s'%kf)"
   ]
  },
  {
   "cell_type": "code",
   "execution_count": null,
   "metadata": {
    "id": "YEgUFwrxru-7"
   },
   "outputs": [],
   "source": []
  }
 ],
 "metadata": {
  "colab": {
   "collapsed_sections": [],
   "name": "internship.ipynb",
   "provenance": []
  },
  "kernelspec": {
   "display_name": "Python 3",
   "language": "python",
   "name": "python3"
  },
  "language_info": {
   "codemirror_mode": {
    "name": "ipython",
    "version": 3
   },
   "file_extension": ".py",
   "mimetype": "text/x-python",
   "name": "python",
   "nbconvert_exporter": "python",
   "pygments_lexer": "ipython3",
   "version": "3.8.5"
  }
 },
 "nbformat": 4,
 "nbformat_minor": 1
}
